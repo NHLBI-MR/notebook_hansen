{
 "cells": [
  {
   "cell_type": "markdown",
   "metadata": {},
   "source": [
    "To Do List\n",
    "======"
   ]
  },
  {
   "cell_type": "markdown",
   "metadata": {},
   "source": [
    "Hansen\n",
    "--------\n",
    "\n",
    "* Slides for SCMR \n",
    "* Compression paper \n",
    "* Recon Teaching \n",
    "* Protocols for Germany \n",
    "* Flywheel stuff: raidtool connection, etc.  \n",
    "* Set up Linux laptop for Germany \n",
    "* Compression:\u202f \n",
    "    * Add ZFP to Docker image \n",
    "    * NHLBI version of compression \n",
    "    * Experiment with different constraints on the compression to get \"white\" noise behavior on residuals.\u202f \n",
    "* Gadgetron distribution plan (for Siemens) \n",
    "* Move non-Cartesian recon to new framework \n",
    "* Get LGE moco + T2* mapping moved from gtPlus \n",
    "* Example of external SENSE coil map sequence \n",
    "* Update SSN record \n",
    "* Adre postdoc \n",
    "* Hui, simulated perfusion data \n",
    "* Fixes to Gadgetron: \n",
    "    * Remove virtual designations on allocate and deallocate memory in ndarrays \n",
    "    * Use std::unique_ptr to manage memory in ndarray \n",
    "    * Use std::unique_ptr/shared_ptr to manage Gadgets creation/destruction  \n",
    "    * Replace all boost::shared_ptr with std::shared_ptr \n",
    "* ISMRMRD 2.x \n",
    "* Docker swarm \n",
    "* Fix device channel scaling in Gadgetron \n",
    "* Radial SNR simulations + experiments \n",
    "* B0 correction for non-Cartesian stuff (MFI) \n",
    "* Fix get_data.py hang \n",
    "* Improve Gadgetron + Matlab \n",
    "Do flow background correction project \n",
    "QED premie coil paper \n",
    "Raw data base \n",
    "Rewrite data capture scripts \n",
    "Use general DICOM catcher with anonymizer \n",
    "Have searchable data base \n",
    "On he fly ISMRMRD conversion \n",
    "MiniSpiral revive "
   ]
  }
 ],
 "metadata": {
  "kernelspec": {
   "display_name": "Python 2",
   "language": "python",
   "name": "python2"
  },
  "language_info": {
   "codemirror_mode": {
    "name": "ipython",
    "version": 2
   },
   "file_extension": ".py",
   "mimetype": "text/x-python",
   "name": "python",
   "nbconvert_exporter": "python",
   "pygments_lexer": "ipython2",
   "version": "2.7.12"
  }
 },
 "nbformat": 4,
 "nbformat_minor": 2
}