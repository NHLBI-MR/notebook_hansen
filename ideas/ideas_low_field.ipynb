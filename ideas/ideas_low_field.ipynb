{
 "cells": [
  {
   "cell_type": "markdown",
   "metadata": {},
   "source": [
    "Low Field Project Ideas\n",
    "---------------------------\n",
    "\n",
    "This is a list of some imaging experiements that are likely to be better (or challenging) with low field. When we have a system, we will march through these. \n",
    " \n",
    "* 2D selective excitation: Long T2* will help, low off resonance will help.  \n",
    "* Perfusion: It is unclear whether the lower T1 (bad) or the higher Gd relaxivity (good) will be the dominant factor.  \n",
    "* Speech imaging: Obvious benefits of low off resonance.  \n",
    "* Interventional MRI: Wires will be safe. \n",
    "* Angiography: Same questions as with perfusion, which factors will dominate.  \n",
    "* Phase contrast flow: higher Maxwell terms will be challenging.  \n",
    "* Multiband MS \u2013 Should be able to use the lower RF power deposition to get more coverage.  "
   ]
  }
 ],
 "metadata": {
  "kernelspec": {
   "display_name": "Python 2",
   "language": "python",
   "name": "python2"
  },
  "language_info": {
   "codemirror_mode": {
    "name": "ipython",
    "version": 2
   },
   "file_extension": ".py",
   "mimetype": "text/x-python",
   "name": "python",
   "nbconvert_exporter": "python",
   "pygments_lexer": "ipython2",
   "version": "2.7.12"
  }
 },
 "nbformat": 4,
 "nbformat_minor": 2
}