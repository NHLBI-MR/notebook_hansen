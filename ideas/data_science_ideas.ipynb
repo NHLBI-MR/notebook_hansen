{
 "cells": [
  {
   "cell_type": "markdown",
   "metadata": {},
   "source": [
    "Data Science\n",
    "---------------\n",
    "\n",
    "* The global raw data capture project: \n",
    "* Capture *all* data from a large number of MRI systems indefinitely, store it, and make it available to the public along with reconstructions that generate images from these studies.  \n",
    "* T1 mapping classification: \n",
    "    *Based on a large database of T1 images acquired with MOLLI, SASHA, shMOLLI, etc., automatically determine normal ranges and create a model that based on a mapping sequence can a) identify the used technique, b) identify abnormal tissue, c) classify said abnormal tissue.  \n",
    "* Notorious Nation, the game about having the most notorious executive branch based on mentions in the news \n",
    "* Using Mechanical Turk to do initial analysis on a large set of MRI scans and then use that as prepared data for machine learning.  \n",
    "* Using Mechanical Turk for ventricular volume quantification. \n",
    "* Think of patterns that generate a unique signature. Like a hash. The CDDB is a good example. \n",
    "* Learn R. Even is it is ultimately used from Python. Read the R in a nutshell book. \n",
    "* Determine confidence intervals for measurements that empirically determine the typical biases in those types of measurements. Like the OMOP study was using for drug pairs. What errors do we typically have for this type of data? \n",
    "* Factor analysis for as a way to identify risk profiles for low perfusion \n",
    "* Bayesian model to predict probability distribution for shunt size given a Qp:Qs measurement "
   ]
  }
 ],
 "metadata": {
  "kernelspec": {
   "display_name": "Python 2",
   "language": "python",
   "name": "python2"
  },
  "language_info": {
   "codemirror_mode": {
    "name": "ipython",
    "version": 2
   },
   "file_extension": ".py",
   "mimetype": "text/x-python",
   "name": "python",
   "nbconvert_exporter": "python",
   "pygments_lexer": "ipython2",
   "version": "2.7.12"
  }
 },
 "nbformat": 4,
 "nbformat_minor": 2
}