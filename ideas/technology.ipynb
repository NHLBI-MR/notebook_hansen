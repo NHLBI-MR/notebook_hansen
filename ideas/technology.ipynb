{
 "cells": [
  {
   "cell_type": "markdown",
   "metadata": {},
   "source": [
    "Technologies to explore\n",
    "----------------------------\n",
    "\n",
    "* [grpc](http://www.grpc.io/) (Google RPC). Interesting candidate for client server communication for reconstruction engines.\n",
    "* [coala](https://coala.io/). Code analysis tool that supports over 60 languages with a unified interface. \n",
    "* [nand2tetris](http://www.nand2tetris.org/). Cool open project about building a computer from scratch. "
   ]
  }
 ],
 "metadata": {
  "kernelspec": {
   "display_name": "Python 2",
   "language": "python",
   "name": "python2"
  },
  "language_info": {
   "codemirror_mode": {
    "name": "ipython",
    "version": 2
   },
   "file_extension": ".py",
   "mimetype": "text/x-python",
   "name": "python",
   "nbconvert_exporter": "python",
   "pygments_lexer": "ipython2",
   "version": "2.7.12"
  }
 },
 "nbformat": 4,
 "nbformat_minor": 2
}