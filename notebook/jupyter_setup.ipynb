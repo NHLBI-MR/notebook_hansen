{
 "cells": [
  {
   "cell_type": "markdown",
   "metadata": {},
   "source": [
    "Setting up Jupyter in virtualenv\n",
    "---------------------------------\n",
    "\n",
    "First make sure `virtualenv` is installed:\n",
    "\n",
    "```\n",
    "sudo apt-get install python-pip\n",
    "sudo pip install virtualenv\n",
    "```\n",
    "\n",
    "Then create a virtual environment:\n",
    "\n",
    "```\n",
    "mkdir -p ~/virtualenv\n",
    "cd ~/virtualenv/\n",
    "virtualenv jupyter\n",
    "```\n",
    "\n",
    "For a Python 3 environment:\n",
    "\n",
    "```\n",
    "mkdir -p ~/virtualenv\n",
    "cd ~/virtualenv/\n",
    "virtualenv -p python3 jupyter_python3\n",
    "```\n",
    "\n",
    "Now activate the virtual environment with:\n",
    "\n",
    "```\n",
    "source ~/virtualenv/jupyter_python3/bin/activate\n",
    "```\n",
    "\n",
    "You should see the command line change to something like:\n",
    "\n",
    "```\n",
    "(jupyter) user@host:~$\n",
    "```\n",
    "which indicates that you are now in the virtual environment and can start installing packages."
   ]
  },
  {
   "cell_type": "markdown",
   "metadata": {},
   "source": [
    "Installing Packages\n",
    "--------------------\n",
    "\n",
    "(in virtual environment see above)\n",
    "\n",
    "```\n",
    "pip install --upgrade pip\n",
    "pip install setuptools\n",
    "pip install Cython\n",
    "pip install numpy \n",
    "pip install pyxb psutil Twisted lxml matplotlib pydicom\n",
    "pip install 'h5py==2.5.0' \n",
    "pip install jupyter\n",
    "```\n",
    "Test the Python 2 kernel with the [python2_example](python2_example.ipynb) notebook."
   ]
  },
  {
   "cell_type": "markdown",
   "metadata": {},
   "source": [
    "Installing ISMRMRD related Python packages\n",
    "-------------------------------------------------\n",
    "\n",
    "(in the virtual environment see above)\n",
    "\n",
    "```\n",
    "mkdir -p ~/temp/\n",
    "cd ~/temp\n",
    "git clone https://github.com/ismrmrd/ismrmrd-python.git\n",
    "cd ismrmrd-python\n",
    "python setup.py install\n",
    "cd ~/temp\n",
    "git clone https://github.com/ismrmrd/ismrmrd-python-tools.git\n",
    "cd ismrmrd-python-tools\n",
    "python setup.py install\n",
    "```"
   ]
  },
  {
   "cell_type": "markdown",
   "metadata": {
    "collapsed": true
   },
   "source": [
    "Install TikZ magic\n",
    "------------------------------------------------------\n",
    "\n",
    "```\n",
    "pip install git+git://github.com/mkrphys/ipython-tikzmagic.git\n",
    "\n",
    "```"
   ]
  },
  {
   "cell_type": "markdown",
   "metadata": {
    "collapsed": true
   },
   "source": [
    "Install R kernel\n",
    "-------------------\n",
    "\n",
    "First make sure R is installed:\n",
    "```\n",
    "sudo apt-get install r-base-core\n",
    "```\n",
    "Then start an R shell by typing \n",
    "```\n",
    "R\n",
    "```\n",
    "In the R shell:\n",
    "```\n",
    "install.packages(c('repr', 'IRdisplay', 'evaluate', 'crayon', 'pbdZMQ', 'devtools', 'uuid', 'digest'))\n",
    "devtools::install_github('IRkernel/IRkernel')\n",
    "IRkernel::installspec()\n",
    "```\n",
    "Test the R kernel with the [R_example](R_example.ipynb) notebook."
   ]
  },
  {
   "cell_type": "markdown",
   "metadata": {
    "collapsed": true
   },
   "source": [
    "Install Julia kernel\n",
    "------------------------\n",
    "\n",
    "`IJulia` uses the `ZMQ` package in Julia, which needs `zmq` version 3 or newer. To make sure it is installed:\n",
    "```\n",
    "sudo apt-get install libzmq3-dev\n",
    "```\n",
    "Now install latest version Julia:\n",
    "```\n",
    "sudo add-apt-repository ppa:staticfloat/juliareleases\n",
    "sudo add-apt-repository ppa:staticfloat/julia-deps\n",
    "sudo apt-get update\n",
    "sudo apt-get install julia\n",
    "```\n",
    "The start Julia with the command `julia` and add the `IJulia` package:\n",
    "\n",
    "```\n",
    "Pkg.add(\"IJulia\")\n",
    "```\n",
    "Test the Julia kernel with the [Julia_example](Julia_example.ipynb) notebook."
   ]
  },
  {
   "cell_type": "markdown",
   "metadata": {
    "collapsed": true
   },
   "source": [
    "Install Cling kerrnel (C++)\n",
    "-------------------------------\n",
    "\n",
    "`cling` is a C++ interpreter. With a `cling` kernel it is possible to run C++ code in a Jupyter notebook. \n",
    "\n",
    "First step is to install Cling. Download a precompiled package from [Cling download page](https://root.cern.ch/download/cling/), e.g.:\n",
    "```\n",
    "mkdir -p ~/cling\n",
    "cd ~/cling\n",
    "https://root.cern.ch/download/cling/cling_2016-12-19_ubuntu16.tar.bz2\n",
    "tar xf cling_2016-12-19_ubuntu16.tar.bz2\n",
    "```\n",
    "Now make sure the cling is in `PATH`:\n",
    "```\n",
    "export PATH=${PATH}:${HOME}/cling/cling_2016-12-19_ubuntu16/bin\n",
    "```\n",
    "Validate with:\n",
    "```\n",
    "cling  --help\n",
    "```\n",
    "To install the cling kernel(s), in the virtual environment (see above):\n",
    "```\n",
    "cd $(dirname $(which cling))/../share/cling/Jupyter/kernel\n",
    "pip install -e .\n",
    "jupyter-kernelspec install --user cling-c++11\n",
    "jupyter-kernelspec install --user cling-c++14\n",
    "jupyter-kernelspec install --user cling-c++17\n",
    "```\n",
    "Test the "
   ]
  },
  {
   "cell_type": "code",
   "metadata": {
    "collapsed": true
   },
   "outputs": [],
   "source": []
  }
 ],
 "metadata": {
  "kernelspec": {
   "display_name": "Python 3",
   "language": "python",
   "name": "python3"
  },
  "language_info": {
   "codemirror_mode": {
    "name": "ipython",
    "version": 3
   },
   "file_extension": ".py",
   "mimetype": "text/x-python",
   "name": "python",
   "nbconvert_exporter": "python",
   "pygments_lexer": "ipython3",
   "version": "3.5.2"
  }
 },
 "nbformat": 4,
 "nbformat_minor": 1
}