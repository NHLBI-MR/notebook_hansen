{
 "cells": [
  {
   "cell_type": "markdown",
   "metadata": {},
   "source": [
    "Setting up Jupyter in virtualenv\n",
    "---------------------------------\n",
    "\n",
    "First make sure `virtualenv` is installed:\n",
    "\n",
    "```\n",
    "sudo apt-get install python-pip\n",
    "sudo pip install virtualenv\n",
    "```\n",
    "\n",
    "Then create a virtual environment:\n",
    "\n",
    "```\n",
    "mkdir -p ~/virtualenv\n",
    "cd ~/virtualenv/\n",
    "virtualenv jupyter\n",
    "```\n",
    "\n",
    "Now activate the virtual environment with:\n",
    "\n",
    "```\n",
    "source ~/virtualenv/jupyter/bin/activate\n",
    "```\n",
    "\n",
    "You should see the command line change to something like:\n",
    "\n",
    "```\n",
    "(jupyter) user@host:~$\n",
    "```\n",
    "which indicates that you are now in the virtual environment and can start installing packages."
   ]
  },
  {
   "cell_type": "markdown",
   "metadata": {},
   "source": [
    "Installing Packages\n",
    "--------------------\n",
    "\n",
    "(in virtual environment see above)\n",
    "\n",
    "```\n",
    "pip install --upgrade pip\n",
    "pip install setuptools\n",
    "pip install Cython\n",
    "pip install numpy \n",
    "pip install pyxb psutil Twisted lxml matplotlib pydicom\n",
    "pip install 'h5py==2.5.0' \n",
    "pip install jupyter\n",
    "```"
   ]
  },
  {
   "cell_type": "markdown",
   "metadata": {},
   "source": [
    "Installing ISMRMRD related Python packages\n",
    "-------------------------------------------------\n",
    "\n",
    "(in the virtual environment see above)\n",
    "\n",
    "```\n",
    "mkdir -p ~/temp/\n",
    "cd ~/temp\n",
    "git clone https://github.com/ismrmrd/ismrmrd-python.git\n",
    "cd ismrmrd-python\n",
    "python setup.py install\n",
    "cd ~/temp\n",
    "git clone https://github.com/ismrmrd/ismrmrd-python-tools.git\n",
    "cd ismrmrd-python-tools\n",
    "python setup.py install\n",
    "```"
   ]
  },
  {
   "cell_type": "markdown",
   "metadata": {
    "collapsed": true
   },
   "source": [
    "Install Python3 kernel\n",
    "--------------------------\n",
    "\n",
    "```\n",
    "python3 -m pip install ipykernel\n",
    "python3 -m ipykernel install --user\n",
    "```"
   ]
  },
  {
   "cell_type": "markdown",
   "metadata": {
    "collapsed": true
   },
   "source": [
    "Install R kernel\n",
    "-------------------\n",
    "\n",
    "First make sure R is installed:\n",
    "\n",
    "```\n",
    "sudo apt-get install r-base-core\n",
    "```\n",
    "Then start an R shell by typing \n",
    "\n",
    "```\n",
    "R\n",
    "```\n",
    "In the R shell:\n",
    "```\n",
    "install.packages(c('repr', 'IRdisplay', 'evaluate', 'crayon', 'pbdZMQ', 'devtools', 'uuid', 'digest'))\n",
    "devtools::install_github('IRkernel/IRkernel')\n",
    "IRkernel::installspec()\n",
    "```\n"
   ]
  },
  {
   "cell_type": "markdown",
   "metadata": {
    "collapsed": true
   },
   "source": [
    "Install Julia kernel (NOT WORKING AT THE MOMENT)\n",
    "--------------------------------------------------------\n",
    "\n",
    "(This doesn't actually work right now, some problem with zmq, but suspect a `Pkg.update()` will fix it shortly. The kernel installs, but crashes when you choose it in the notebook).\n",
    "\n",
    "First install latest version Julia:\n",
    "\n",
    "```\n",
    "sudo add-apt-repository ppa:staticfloat/juliareleases\n",
    "sudo add-apt-repository ppa:staticfloat/julia-deps\n",
    "sudo apt-get update\n",
    "sudo apt-get install julia\n",
    "```\n",
    "\n",
    "The start Julia with the command `julia` and add the `IJulia` package:\n",
    "\n",
    "```\n",
    "Pkg.add(\"IJulia\")\n",
    "```"
   ]
  },
  {
   "cell_type": "code",
   "metadata": {
    "collapsed": true
   },
   "outputs": [],
   "source": []
  }
 ],
 "metadata": {
  "kernelspec": {
   "display_name": "Python 2",
   "language": "python",
   "name": "python2"
  },
  "language_info": {
   "codemirror_mode": {
    "name": "ipython",
    "version": 2
   },
   "file_extension": ".py",
   "mimetype": "text/x-python",
   "name": "python",
   "nbconvert_exporter": "python",
   "pygments_lexer": "ipython2",
   "version": "2.7.12"
  }
 },
 "nbformat": 4,
 "nbformat_minor": 1
}