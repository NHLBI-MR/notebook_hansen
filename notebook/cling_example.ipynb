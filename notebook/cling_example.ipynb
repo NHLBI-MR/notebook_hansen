{
 "cells": [
  {
   "cell_type": "markdown",
   "metadata": {},
   "source": [
    "Cling Kernel Example\n",
    "-----------------------\n",
    "\n",
    "Example of using Cling kernel to run C++ code in Jupyter"
   ]
  },
  {
   "cell_type": "code",
   "metadata": {
    "collapsed": false
   },
   "outputs": [],
   "source": [
    "class MyClass\n",
    "{\n",
    "   public:\n",
    "    int someFunction()\n",
    "    {\n",
    "        return 12;\n",
    "    }\n",
    "    \n",
    "};"
   ]
  },
  {
   "cell_type": "code",
   "metadata": {
    "collapsed": false
   },
   "outputs": [],
   "source": [
    "MyClass a;\n",
    "a.someFunction();"
   ]
  }
 ],
 "metadata": {
  "kernelspec": {
   "display_name": "C++11",
   "language": "",
   "name": "cling-c++11"
  },
  "language_info": {
   "codemirror_mode": "text/x-c++src",
   "file_extension": ".c++",
   "mimetype": " text/x-c++src",
   "name": "c++"
  }
 },
 "nbformat": 4,
 "nbformat_minor": 2
}