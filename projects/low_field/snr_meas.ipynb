{
 "cells": [
  {
   "cell_type": "markdown",
   "metadata": {},
   "source": [
    "SNR Measurement for Field Strength Comparisons\n",
    "===============================================\n",
    "\n",
    "This notebook is a self contained workflow for analyzing relaxation and SNR measurements. "
   ]
  },
  {
   "cell_type": "markdown",
   "metadata": {},
   "source": [
    "Change plotting settings here for outer types of output (e.g. `inline`)"
   ]
  },
  {
   "cell_type": "code",
   "metadata": {
    "collapsed": false
   },
   "outputs": [],
   "source": [
    "%matplotlib notebook"
   ]
  },
  {
   "cell_type": "markdown",
   "metadata": {},
   "source": [
    "Functions for labeling and analyzing images"
   ]
  },
  {
   "cell_type": "code",
   "metadata": {
    "collapsed": false
   },
   "outputs": [],
   "source": [
    "import os\n",
    "import dicom\n",
    "\n",
    "import numpy as np\n",
    "import matplotlib.pyplot as plt\n",
    "\n",
    "from skimage.filters import threshold_otsu\n",
    "from skimage.segmentation import clear_border\n",
    "from skimage.measure import label, moments\n",
    "from skimage.morphology import closing, erosion, square\n",
    "from scipy.signal import medfilt\n",
    "from scipy.optimize import fmin\n",
    "\n",
    "def display_dicom(dcm,colormap='gray',colorbar=True):\n",
    "    fig, ax = plt.subplots(ncols=1, nrows=1)\n",
    "    cax = ax.imshow(dcm.pixel_array,cmap=plt.get_cmap(colormap))\n",
    "\n",
    "    if colorbar:\n",
    "        fig.colorbar(cax)\n",
    "\n",
    "def parse_dicom_tree(path):\n",
    "    dcms = dict()\n",
    "    for fn in os.listdir(path):\n",
    "        ffn = os.path.join(path,fn)\n",
    "        if os.path.isfile(ffn):\n",
    "            try:\n",
    "                ds = dicom.read_file(ffn)\n",
    "                snum = ds.SeriesNumber\n",
    "                if not snum in dcms:\n",
    "                    dcms[snum] = list()\n",
    "                dcms[snum].append(ds)\n",
    "                \n",
    "            except dicom.errors.InvalidDicomError:\n",
    "                print(\"Skipping \" + ffn + \", not a DICOM file\")\n",
    "    return dcms\n",
    "\n",
    "def print_dicom_summary(dcms):\n",
    "    series = sorted(dcms.keys())\n",
    "    for s in series:\n",
    "        print (str(dcms[s][0].SeriesNumber) + '\\t' + str(len(dcms[s])) + '\\t' + dcms[s][0].SeriesDescription)\n",
    "        \n",
    "def label_image(image, threshold_sensitivity=0.1,erosion_size=4):\n",
    "    # apply threshold\n",
    "    thresh = threshold_otsu(image)\n",
    "    bw = closing(image > threshold_sensitivity*thresh, square(3))\n",
    "    bw = erosion(bw, square(erosion_size))\n",
    "\n",
    "    # remove artifacts connected to image border\n",
    "    cleared = bw.copy()\n",
    "    clear_border(cleared)\n",
    "\n",
    "    # label image regions\n",
    "    label_image = label(cleared)\n",
    "    borders = np.logical_xor(bw, cleared)\n",
    "    label_image[borders] = 0\n",
    "    \n",
    "    return label_image\n",
    "\n",
    "def display_labels(label_image):\n",
    "    fig, ax = plt.subplots(ncols=1, nrows=1, figsize=(6, 6))\n",
    "    ax.imshow(label_image,cmap=plt.cm.gray)\n",
    "\n",
    "    for l in range(1,np.max(label_image)+1):\n",
    "        ml = (label_image == l)\n",
    "        m = moments(ml.astype(np.double))\n",
    "        c = m[0, 1] / m[0, 0], m[1, 0] / m[0, 0]\n",
    "        ax.text(c[1], c[0],str(l),color='red')\n",
    "        \n",
    "def calc_flip_angle_map(dcm1,dcm2):\n",
    "    if dcm1.FlipAngle > dcm2.FlipAngle:\n",
    "        im_low = dcm2.pixel_array\n",
    "        im_high = dcm1.pixel_array\n",
    "        flip_angle_low = dcm2.FlipAngle\n",
    "        flip_angle_high = dcm1.FlipAngle\n",
    "    else:\n",
    "        im_low = dcm1.pixel_array\n",
    "        im_high = dcm2.pixel_array\n",
    "        flip_angle_low = dcm1.FlipAngle\n",
    "        flip_angle_high = dcm2.FlipAngle\n",
    "\n",
    "    if flip_angle_high != 2*flip_angle_low:\n",
    "        raise Exception('Low flip angle is not half of high flip angle')\n",
    "    \n",
    "    im_low = medfilt(im_low.astype(np.double),5)\n",
    "    im_high = medfilt(im_high.astype(np.double),5)\n",
    "\n",
    "    q = im_high/(2*(im_low+np.finfo(np.double).eps))\n",
    "    q = np.clip(q,-1, 1);\n",
    "    fa = np.arccos(q)*(180/np.pi);    \n",
    "    \n",
    "    #q = im_low/(im_high+np.finfo(np.double).eps)\n",
    "    #q = np.clip(q,-1, 1);\n",
    "    #fa = np.arcsin(q)*(180/np.pi);    \n",
    "\n",
    "    fa = fa/flip_angle_low\n",
    "    return fa\n",
    "\n",
    "def get_label_mean(img,label_image,labels=[]):\n",
    "    if not labels:\n",
    "        labels = range(np.min(label_image),np.max(label_image)+1)\n",
    "    \n",
    "    means = list()\n",
    "    for l in labels:\n",
    "        m = (label_image == l).astype(np.double)\n",
    "        s = np.sum(m*img)/np.sum(m)\n",
    "        means.append(s)\n",
    "        \n",
    "    return means\n",
    "\n",
    "def get_IR_data(dcms, label_image, labels=[]):\n",
    "    if not labels:\n",
    "        labels = range(np.min(label_image),np.max(label_image)+1)\n",
    "\n",
    "    images = len(dcms)\n",
    "    labs = len(labels)\n",
    "\n",
    "    TIs = np.zeros((images,),dtype=np.double)\n",
    "    signal = np.zeros((images,labs),dtype=np.double)\n",
    "\n",
    "    for idx, im in enumerate(dcms):\n",
    "        means = get_label_mean(im.pixel_array,label_image,labels=labels)\n",
    "        signal[idx,:] = np.array(means)\n",
    "        TIs[idx] = im.InversionTime\n",
    "        \n",
    "    idx = [i[0] for i in sorted(enumerate(TIs), key=lambda x:x[1])]  \n",
    "    signal = signal[idx,:]\n",
    "    TIs = TIs[idx]\n",
    "    \n",
    "    return TIs, signal\n",
    "\n",
    "def fit_t1_mag_IR(TIs, IRSignal):\n",
    "    #Doing 3 parameters fit\n",
    "    # S = A - B exp(-TI./T1star)\n",
    "    \n",
    "    if len(IRSignal.shape) > 1:\n",
    "        curves = IRSignal.shape[1]\n",
    "    else:\n",
    "        curves = 1\n",
    "    \n",
    "    fits = list()\n",
    "    for c in range(0,curves):\n",
    "        #First get a starting estimate\n",
    "        s = IRSignal[:,c]\n",
    "        ss = sorted(enumerate(abs(s)), key=lambda x: x[1])\n",
    "        if ss[0][0] == 0: \n",
    "            T1star = np.min(TIs)/np.log(2);\n",
    "        else:\n",
    "            tmp = ss[0:2]\n",
    "            if tmp[0][0] > tmp[1][0]:\n",
    "                tmp = [tmp[1], tmp[0]]\n",
    "            slope = (tmp[1][1] + tmp[0][1])/(TIs[tmp[1][0]]-TIs[tmp[0][0]])\n",
    "            T1star = (tmp[0][1]/slope + TIs[tmp[0][0]])/np.log(2)\n",
    "        \n",
    "\n",
    "        #Next let's do the fit with scipy.optimize.fmin (simplex)\n",
    "        Ainit = np.max(np.abs(s))\n",
    "        x0 = [Ainit, 2*Ainit, T1star] \n",
    "        costfcn = lambda x: np.sum((np.abs(x[0]-x[1]*np.exp(-TIs/x[2]))-s)**2)\n",
    "        x = fmin(costfcn,x0=x0,disp=False)\n",
    "        fits.append(x)\n",
    "        \n",
    "    return fits\n",
    "\n",
    "def get_SE_data(dcms, label_image, labels=[]):\n",
    "    if not labels:\n",
    "        labels = range(np.min(label_image),np.max(label_image)+1)\n",
    "\n",
    "    images = len(dcms)\n",
    "    labs = len(labels)\n",
    "\n",
    "    TEs = np.zeros((images,),dtype=np.double)\n",
    "    signal = np.zeros((images,labs),dtype=np.double)\n",
    "\n",
    "    for idx, im in enumerate(dcms):\n",
    "        means = get_label_mean(im.pixel_array,label_image,labels=labels)\n",
    "        signal[idx,:] = np.array(means)\n",
    "        TEs[idx] = im.EchoTime\n",
    "        \n",
    "    idx = [i[0] for i in sorted(enumerate(TEs), key=lambda x:x[1])]  \n",
    "    signal = signal[idx,:]\n",
    "    TEs = TEs[idx]\n",
    "    \n",
    "    return TEs, signal\n",
    "\n",
    "def fit_t2_SE(TEs,signal):\n",
    "    #Doing s parameters fit\n",
    "    # S = A exp(-TE./T2)\n",
    "    \n",
    "    if len(IRSignal.shape) > 1:\n",
    "        curves = IRSignal.shape[1]\n",
    "    else:\n",
    "        curves = 1\n",
    "    \n",
    "    fits = list()\n",
    "    for c in range(0,curves):\n",
    "        #First get a starting estimate\n",
    "        s = signal[:,c]\n",
    "        y = np.log(np.abs(s))\n",
    "        x = TEs;\n",
    "        b = np.sum((x - np.mean(x))*(y - np.mean(y)))/np.sum((x - np.mean(x))**2)\n",
    "        a = np.mean(y) - b*np.mean(x)\n",
    "        x0 = [np.exp(a), -1/b]\n",
    "\n",
    "        costfcn = lambda x: np.sum((np.abs(x[0]*np.exp(-TEs/x[1]))-s)**2)\n",
    "        x = fmin(costfcn,x0=x0,disp=False)\n",
    "        fits.append(x)\n",
    "    return fits\n",
    "\n",
    "def imlist_to_pixel_array(imgs):\n",
    "    img_size = imgs[0].pixel_array.shape\n",
    "    img_array = np.zeros((len(imgs), img_size[0],img_size[1]))\n",
    "    for idx, i in enumerate(imgs):\n",
    "        img_array[idx,:,:] = i.pixel_array\n",
    "    return img_array"
   ]
  },
  {
   "cell_type": "markdown",
   "metadata": {},
   "source": [
    "Reading Images\n",
    "===============\n",
    "\n",
    "The analysis workflow starts with parsing all the dicom images in a given folder. The list below should give an overview of serries names and the number of images in each series.  "
   ]
  },
  {
   "cell_type": "code",
   "metadata": {
    "collapsed": false
   },
   "outputs": [],
   "source": [
    "d = parse_dicom_tree('/home/hansenms/data/deuterium20161121')\n",
    "print_dicom_summary(d)"
   ]
  },
  {
   "cell_type": "markdown",
   "metadata": {},
   "source": [
    "Classification of Image Series\n",
    "===============================\n",
    "\n",
    "Based on the list above, identify "
   ]
  },
  {
   "cell_type": "code",
   "metadata": {
    "collapsed": true
   },
   "outputs": [],
   "source": [
    "fa_data = [18,21] #flip angle measurements\n",
    "IR_data = [31,34,37,40,43,46,49,52,55] #Inversion Recovery (T1) data\n",
    "SE_data = [69,72,75,78,81,84,87] #Spin Echo (T2) data\n",
    "T2star_data = [11] #T2* data\n",
    "SSFP_data = [59] #SSFP images (multiple reps)\n",
    "GRE_data = [16] #GRE images (multiple reps)"
   ]
  },
  {
   "cell_type": "code",
   "metadata": {
    "collapsed": false
   },
   "outputs": [],
   "source": [
    "# Initial overview image\n",
    "im = d[fa_data[0]][0]\n",
    "fig, ax = plt.subplots(ncols=1, nrows=1, figsize=(6, 6))\n",
    "ax.imshow(im.pixel_array,cmap=plt.cm.gray)"
   ]
  },
  {
   "cell_type": "code",
   "metadata": {
    "collapsed": false
   },
   "outputs": [],
   "source": [
    "#Now label the data\n",
    "im = d[fa_data[0]][0]\n",
    "labels = label_image(im.pixel_array,threshold_sensitivity=0.5)\n",
    "display_labels(labels)"
   ]
  },
  {
   "cell_type": "markdown",
   "metadata": {},
   "source": [
    "Regions of Interest\n",
    "====================\n",
    "\n",
    "Based on automatic labeling above, select the tubes (phantoms) you are interested in analyzing"
   ]
  },
  {
   "cell_type": "code",
   "metadata": {
    "collapsed": false
   },
   "outputs": [],
   "source": [
    "tubes = [5,6,4,8,9,7,10,12,11,13,15,14]\n",
    "lf_tubes = [3,4,5,9,10,11]\n",
    "hf_tubes = [0,1,2,6,7,8]"
   ]
  },
  {
   "cell_type": "code",
   "metadata": {
    "collapsed": false
   },
   "outputs": [],
   "source": [
    "# Flip angle map\n",
    "fa = calc_flip_angle_map(d[fa_data[0]][0],d[fa_data[1]][0])\n",
    "fig, ax = plt.subplots(ncols=1, nrows=1, figsize=(6, 6))\n",
    "img = ax.imshow(fa,cmap=plt.cm.jet)\n",
    "fig.colorbar(img)"
   ]
  },
  {
   "cell_type": "code",
   "metadata": {
    "collapsed": false
   },
   "outputs": [],
   "source": [
    "#Flip angles in tubes\n",
    "rel_fa = get_label_mean(fa,labels,labels=tubes)\n",
    "fig, ax = plt.subplots(ncols=1, nrows=1, figsize=(6, 6))\n",
    "ax.plot(tubes,rel_fa,'o')\n",
    "ax.set_ylim([0.5,1.5])\n",
    "ax.set_xlabel('Tube')\n",
    "ax.set_ylabel('Relative FA')"
   ]
  },
  {
   "cell_type": "code",
   "metadata": {
    "collapsed": false
   },
   "outputs": [],
   "source": [
    "# Estimate T1\n",
    "dcms = [d[i][0] for i in IR_data]\n",
    "\n",
    "TIs, IRSignal = get_IR_data(dcms, labels, tubes)\n",
    "fits_t1 = fit_t1_mag_IR(TIs,IRSignal)\n",
    "\n",
    "fig, ax = plt.subplots(ncols=1, nrows=1)\n",
    "line_vals = np.linspace(0,np.max(TIs),1000)\n",
    "for t in range(0,len(tubes)):\n",
    "    _ = ax.plot(line_vals,np.abs(fits_t1[t][0]-fits_t1[t][1]*np.exp(-line_vals/fits_t1[t][2])),'-')\n",
    "    _ = ax.plot(TIs,IRSignal[:,t],'o')\n"
   ]
  },
  {
   "cell_type": "code",
   "metadata": {
    "collapsed": false
   },
   "outputs": [],
   "source": [
    "# Print T1 values\n",
    "[x[2] for x in fits_t1]"
   ]
  },
  {
   "cell_type": "code",
   "metadata": {
    "collapsed": false
   },
   "outputs": [],
   "source": [
    "# Estimate T2\n",
    "TEs, SESignal = get_SE_data([d[i][0] for i in SE_data],labels,tubes)\n",
    "fits_t2 = fit_t2_SE(TEs,SESignal)\n",
    "\n",
    "fig, ax = plt.subplots(ncols=1, nrows=1)\n",
    "line_vals = np.linspace(0,np.max(TEs),1000)\n",
    "for t in range(0,len(tubes)):\n",
    "    _ = ax.plot(line_vals,fits_t2[t][0]*np.exp(-line_vals/fits_t2[t][1]),'-')\n",
    "    _ = ax.plot(TEs,SESignal[:,t],'o')"
   ]
  },
  {
   "cell_type": "code",
   "metadata": {
    "collapsed": false
   },
   "outputs": [],
   "source": [
    "# Print T2 values\n",
    "[x[1] for x in fits_t2]"
   ]
  },
  {
   "cell_type": "code",
   "metadata": {
    "collapsed": false
   },
   "outputs": [],
   "source": [
    "# T2* values\n",
    "t2star_img = d[T2star_data[0]][0].pixel_array\n",
    "T2stars = get_label_mean(t2star_img,labels,tubes)\n",
    "T2stars = np.array(T2stars)/10.0\n",
    "T2stars"
   ]
  },
  {
   "cell_type": "code",
   "metadata": {
    "collapsed": false
   },
   "outputs": [],
   "source": [
    "# Estiimate M0\n",
    "echo_time_im = 0\n",
    "T1s = np.array([x[2] for x in fits_t1],dtype=np.double)\n",
    "T2s = np.array([x[1] for x in fits_t2],dtype=np.double)\n",
    "TR  = d[SE_data[1]][0].RepetitionTime\n",
    "TE  = d[SE_data[1]][0].EchoTime\n",
    "M0s = np.squeeze(SESignal[1,:])/((1-np.exp(-TR/T1s))*(np.exp(-TE/T2s)))\n",
    "M0s = M0s/rel_fa"
   ]
  },
  {
   "cell_type": "code",
   "metadata": {
    "collapsed": false
   },
   "outputs": [],
   "source": [
    "# Print M0\n",
    "M0s"
   ]
  },
  {
   "cell_type": "code",
   "metadata": {
    "collapsed": false
   },
   "outputs": [],
   "source": [
    "# M0 using the model fit\n",
    "np.asarray([x[0] for x in fits_t2])/rel_fa"
   ]
  },
  {
   "cell_type": "code",
   "metadata": {
    "collapsed": false
   },
   "outputs": [],
   "source": [
    "M0s_t2fit = np.asarray([x[0] for x in fits_t2])/rel_fa\n",
    "M0s_t1fit = np.asarray([x[0] for x in fits_t1])/rel_fa\n",
    "fig, ax = plt.subplots(ncols=1, nrows=1)\n",
    "ax.plot(M0s,M0s_t2fit,'.b')\n",
    "identity = np.linspace(np.min(M0s)*0.9,np.max(M0s)*1.1,100)\n",
    "ax.plot(identity,identity,'-k')"
   ]
  },
  {
   "cell_type": "code",
   "metadata": {
    "collapsed": false
   },
   "outputs": [],
   "source": [
    "# Plot M0\n",
    "fig, ax = plt.subplots(ncols=1, nrows=1)\n",
    "ax.plot(range(0,len(tubes)),[x[1][0]/rel_fa[x[0]] for x in enumerate(fits_t2)],'ob')"
   ]
  },
  {
   "cell_type": "code",
   "metadata": {
    "collapsed": false
   },
   "outputs": [],
   "source": [
    "# Relative M0 ratios\n",
    "np.mean(M0s[lf_tubes])/np.mean(M0s[hf_tubes])"
   ]
  },
  {
   "cell_type": "code",
   "metadata": {
    "collapsed": false
   },
   "outputs": [],
   "source": [
    "# Relative M0 ratios based on model fit\n",
    "As = np.asarray([x[1][0]/rel_fa[x[0]] for x in enumerate(fits_t2)])\n",
    "np.mean(As[lf_tubes])/np.mean(As[hf_tubes])"
   ]
  },
  {
   "cell_type": "code",
   "metadata": {
    "collapsed": false
   },
   "outputs": [],
   "source": [
    "#SSFP Data, get M0 based on relaxation\n",
    "ssfp_imgs = d[SSFP_data[0]][20:]\n",
    "\n",
    "ssfp_img_arr = imlist_to_pixel_array(ssfp_imgs)\n",
    "ssfp_snr = np.mean(ssfp_img_arr,axis=0)/(np.std(ssfp_img_arr,axis=0)+np.finfo(np.double).eps)\n",
    "\n",
    "SSFP_TE = ssfp_imgs[0].EchoTime\n",
    "SSFP_TR = ssfp_imgs[0].EchoTime*2\n",
    "SSFP_TR = ssfp_imgs[0].RepetitionTime/ssfp_imgs[0].NumberOfPhaseEncodingSteps\n",
    "SSFP_alpha = 2*np.pi*(ssfp_imgs[0].FlipAngle/360.0)\n",
    "ssfp_signal = get_label_mean(ssfp_snr,labels,tubes)\n",
    "E1 = np.exp(-SSFP_TR/T1s)\n",
    "E2 = np.exp(-SSFP_TR/T2s)\n",
    "alpha = SSFP_alpha*np.array(rel_fa)\n",
    "ssfp_M0 = ssfp_signal / (np.sqrt(E2*(1-E1)*np.sin(alpha))/(1-(E1-E2)*np.cos(alpha)-E1*E2))\n",
    "print(ssfp_M0)"
   ]
  },
  {
   "cell_type": "code",
   "metadata": {
    "collapsed": false
   },
   "outputs": [],
   "source": [
    "# M0 ratios from SSFP data\n",
    "np.mean(ssfp_M0[lf_tubes])/np.mean(ssfp_M0[hf_tubes])"
   ]
  },
  {
   "cell_type": "code",
   "metadata": {
    "collapsed": false
   },
   "outputs": [],
   "source": [
    "# Actual signal ratios\n",
    "ssfp_signal_adj = np.asarray(ssfp_signal)\n",
    "np.mean(ssfp_signal_adj[lf_tubes])/np.mean(ssfp_signal_adj[hf_tubes])"
   ]
  },
  {
   "cell_type": "code",
   "metadata": {
    "collapsed": false
   },
   "outputs": [],
   "source": [
    "#GRE Data, get M0 based on relaxation parameters\n",
    "\n",
    "gre_imgs = d[GRE_data[0]][20:]\n",
    "\n",
    "gre_img_arr = imlist_to_pixel_array(gre_imgs)\n",
    "gre_snr = np.mean(gre_img_arr,axis=0)/(np.std(gre_img_arr,axis=0)+np.finfo(np.double).eps)\n",
    "\n",
    "GRE_TE = gre_imgs[0].EchoTime\n",
    "GRE_TR = gre_imgs[0].RepetitionTime/gre_imgs[0].NumberOfPhaseEncodingSteps\n",
    "GRE_alpha = 2*np.pi*(gre_imgs[0].FlipAngle/360.0)\n",
    "gre_signal = get_label_mean(gre_snr,labels,tubes)\n",
    "alpha = GRE_alpha*np.array(rel_fa)\n",
    "gre_M0 = gre_signal / ((np.exp(-GRE_TE/T2stars)*np.sin(alpha)*(1-np.exp(-GRE_TR/T1s)))/(1-np.cos(alpha)*(np.exp(-GRE_TR/T1s))))\n",
    "print(gre_M0)"
   ]
  },
  {
   "cell_type": "code",
   "metadata": {
    "collapsed": false
   },
   "outputs": [],
   "source": [
    "# M0 ratios from GRE data\n",
    "np.mean(gre_M0[lf_tubes])/np.mean(gre_M0[hf_tubes])"
   ]
  },
  {
   "cell_type": "code",
   "metadata": {
    "collapsed": false
   },
   "outputs": [],
   "source": [
    "# Actual signal ratios in GRE data\n",
    "gre_signal_adj = np.asarray(gre_signal)\n",
    "np.mean(gre_signal_adj[lf_tubes])/np.mean(gre_signal_adj[hf_tubes])"
   ]
  },
  {
   "cell_type": "code",
   "metadata": {
    "collapsed": true
   },
   "outputs": [],
   "source": []
  }
 ],
 "metadata": {
  "kernelspec": {
   "display_name": "Python 3",
   "language": "python",
   "name": "python3"
  },
  "language_info": {
   "codemirror_mode": {
    "name": "ipython",
    "version": 3
   },
   "file_extension": ".py",
   "mimetype": "text/x-python",
   "name": "python",
   "nbconvert_exporter": "python",
   "pygments_lexer": "ipython3",
   "version": "3.5.2"
  }
 },
 "nbformat": 4,
 "nbformat_minor": 1
}