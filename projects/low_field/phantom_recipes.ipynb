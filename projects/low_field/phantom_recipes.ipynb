{
 "cells": [
  {
   "cell_type": "code",
   "metadata": {
    "collapsed": true
   },
   "outputs": [],
   "source": [
    "def calc_t1_t2_captur(agarose, NiCl2):\n",
    "    r1 = 3.750e-4 + 8.790e-6*agarose + 6.683e-4*NiCl2\n",
    "    r2 = 1.645e-4 + 7.622e-3*agarose + 7.201e-4*NiCl2\n",
    "    return 1/r1, 1/r2\n",
    "\n",
    "def calc_t1_t2_hansen(agarose_percent,NiCl2_mM, D2O_percent = 0.0):\n",
    "    r1 = 3.750e-4 + 8.790e-6*agarose_percent + 6.683e-4*NiCl2_mM - 2.70E-04*0.01*D2O_percent\n",
    "    r2 = 1.645e-4 + 7.622e-3*agarose_percent + 7.201e-4*NiCl2_mM - 4.10E-04*0.01*D2O_percent\n",
    "    return 1/r1, 1/r2\n",
    "\n",
    "def stock_to_phantom_c(c_stock,v_phantom,v_stock):\n",
    "    v_total = v_phantom+v_stock\n",
    "    n = c_stock*v_stock\n",
    "    return n/v_total"
   ]
  },
  {
   "cell_type": "code",
   "metadata": {
    "collapsed": false
   },
   "outputs": [],
   "source": [
    "#Myocardium @1.5T\n",
    "calc_t1_t2_hansen(2.5,stock_to_phantom_c(100,30e-3,200e-6),0)"
   ]
  },
  {
   "cell_type": "code",
   "metadata": {
    "collapsed": false
   },
   "outputs": [],
   "source": [
    "#Myocardium @0.5T\n",
    "calc_t1_t2_hansen(2.5,stock_to_phantom_c(100,30e-3,450e-6),66)"
   ]
  },
  {
   "cell_type": "code",
   "metadata": {
    "collapsed": false
   },
   "outputs": [],
   "source": [
    "#Blood @1.5T\n",
    "calc_t1_t2_hansen(0.60,stock_to_phantom_c(100,30e-3,80e-6),0)"
   ]
  },
  {
   "cell_type": "code",
   "metadata": {
    "collapsed": false
   },
   "outputs": [],
   "source": [
    "#Blood @0.5T\n",
    "calc_t1_t2_hansen(0.60,stock_to_phantom_c(100,30e-3,300e-6),66)"
   ]
  },
  {
   "cell_type": "code",
   "metadata": {
    "collapsed": false
   },
   "outputs": [],
   "source": [
    "#Lipid @1.5T\n",
    "calc_t1_t2_hansen(1.0,stock_to_phantom_c(100,30e-3,1600e-6),0)"
   ]
  },
  {
   "cell_type": "code",
   "metadata": {
    "collapsed": false
   },
   "outputs": [],
   "source": [
    "#Lipid @0.5T\n",
    "calc_t1_t2_hansen(1.0,stock_to_phantom_c(100,30e-3,2100e-6),66)"
   ]
  },
  {
   "cell_type": "code",
   "metadata": {
    "collapsed": false
   },
   "outputs": [],
   "source": [
    "1.0*30/100"
   ]
  },
  {
   "cell_type": "code",
   "metadata": {
    "collapsed": false
   },
   "outputs": [],
   "source": [
    "stock_to_phantom_c(100,30e-3,80e-6)"
   ]
  },
  {
   "cell_type": "code",
   "metadata": {
    "collapsed": false
   },
   "outputs": [],
   "source": [
    "#Blood @1.5T\n",
    "calc_t1_t2_hansen(0.60,stock_to_phantom_c(100,1.0,2.7e-3),0)"
   ]
  },
  {
   "cell_type": "code",
   "metadata": {
    "collapsed": false
   },
   "outputs": [],
   "source": [
    "stock_to_phantom_c(100,1.0,2.7e-3)"
   ]
  },
  {
   "cell_type": "code",
   "metadata": {
    "collapsed": true
   },
   "outputs": [],
   "source": []
  }
 ],
 "metadata": {
  "kernelspec": {
   "display_name": "Python 2",
   "language": "python",
   "name": "python2"
  },
  "language_info": {
   "codemirror_mode": {
    "name": "ipython",
    "version": 2
   },
   "file_extension": ".py",
   "mimetype": "text/x-python",
   "name": "python",
   "nbconvert_exporter": "python",
   "pygments_lexer": "ipython2",
   "version": "2.7.12"
  }
 },
 "nbformat": 4,
 "nbformat_minor": 1
}